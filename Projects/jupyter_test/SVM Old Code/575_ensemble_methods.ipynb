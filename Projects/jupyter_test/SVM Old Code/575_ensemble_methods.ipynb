{
 "cells": [
  {
   "cell_type": "code",
   "execution_count": 3,
   "metadata": {},
   "outputs": [],
   "source": [
    "import pandas as pd\n",
    "import numpy as np\n",
    "from sklearn.model_selection import train_test_split\n",
    "from sklearn.ensemble import RandomForestClassifier, BaggingClassifier\n",
    "from sklearn.metrics import classification_report, confusion_matrix\n",
    "from imblearn.ensemble import BalancedBaggingClassifier\n",
    "from sklearn.model_selection import GridSearchCV\n",
    "\n",
    "\n",
    "SEED = 0"
   ]
  },
  {
   "cell_type": "code",
   "execution_count": 4,
   "metadata": {},
   "outputs": [],
   "source": [
    "#Loading data\n",
    "data = pd.read_csv(\"creditcard.csv\", header=0)\n",
    "#data.head()"
   ]
  },
  {
   "cell_type": "code",
   "execution_count": 5,
   "metadata": {},
   "outputs": [
    {
     "name": "stdout",
     "output_type": "stream",
     "text": [
      "Duplicates 1081\n",
      "Rows 283726, Columns 31\n"
     ]
    }
   ],
   "source": [
    "#Handle Duplicated values\n",
    "print(\"Duplicates\", data.duplicated().sum())\n",
    "data = data.drop_duplicates()\n",
    "print(\"Rows {}, Columns {}\".format(data.shape[0], data.shape[1]))"
   ]
  },
  {
   "cell_type": "code",
   "execution_count": 6,
   "metadata": {},
   "outputs": [],
   "source": [
    "x_data = data.drop(columns=[\"Class\"])\n",
    "y_data = data[\"Class\"]\n",
    "X_train, X_test, y_train, y_test = train_test_split( x_data, y_data, test_size=0.3, random_state=SEED )"
   ]
  },
  {
   "cell_type": "code",
   "execution_count": 10,
   "metadata": {},
   "outputs": [
    {
     "name": "stdout",
     "output_type": "stream",
     "text": [
      "Fitting 2 folds for each of 12 candidates, totalling 24 fits\n",
      "[CV 1/2] END max_features=0.5, max_samples=0.5, n_estimators=10;, score=0.999 total time= 1.5min\n",
      "[CV 2/2] END max_features=0.5, max_samples=0.5, n_estimators=10;, score=0.999 total time= 1.6min\n",
      "[CV 1/2] END max_features=0.5, max_samples=1.0, n_estimators=10;, score=0.999 total time= 2.7min\n",
      "[CV 2/2] END max_features=0.5, max_samples=1.0, n_estimators=10;, score=0.999 total time= 2.9min\n",
      "[CV 1/2] END max_features=0.5, max_samples=0.5, n_estimators=50;, score=0.999 total time= 7.2min\n",
      "[CV 2/2] END max_features=0.5, max_samples=0.5, n_estimators=50;, score=0.999 total time= 7.7min\n",
      "[CV 1/2] END max_features=1.0, max_samples=0.5, n_estimators=10;, score=0.999 total time= 2.2min\n",
      "[CV 2/2] END max_features=1.0, max_samples=0.5, n_estimators=10;, score=0.999 total time= 2.4min\n",
      "[CV 1/2] END max_features=0.5, max_samples=0.5, n_estimators=100;, score=0.999 total time=14.4min\n",
      "[CV 1/2] END max_features=0.5, max_samples=1.0, n_estimators=50;, score=0.999 total time=13.8min\n",
      "[CV 2/2] END max_features=0.5, max_samples=0.5, n_estimators=100;, score=0.999 total time=15.4min\n",
      "[CV 2/2] END max_features=0.5, max_samples=1.0, n_estimators=50;, score=0.999 total time=14.8min\n",
      "[CV 1/2] END max_features=1.0, max_samples=1.0, n_estimators=10;, score=1.000 total time= 4.3min\n",
      "[CV 1/2] END max_features=1.0, max_samples=0.5, n_estimators=50;, score=0.999 total time=11.3min\n",
      "[CV 2/2] END max_features=1.0, max_samples=1.0, n_estimators=10;, score=0.999 total time= 4.8min\n",
      "[CV 2/2] END max_features=1.0, max_samples=0.5, n_estimators=50;, score=0.999 total time=12.2min\n",
      "[CV 1/2] END max_features=0.5, max_samples=1.0, n_estimators=100;, score=0.999 total time=27.7min\n",
      "[CV 2/2] END max_features=0.5, max_samples=1.0, n_estimators=100;, score=0.999 total time=29.2min\n",
      "[CV 1/2] END max_features=1.0, max_samples=0.5, n_estimators=100;, score=0.999 total time=21.5min\n",
      "[CV 2/2] END max_features=1.0, max_samples=0.5, n_estimators=100;, score=0.999 total time=23.1min\n",
      "[CV 1/2] END max_features=1.0, max_samples=1.0, n_estimators=50;, score=0.999 total time=20.7min\n",
      "[CV 2/2] END max_features=1.0, max_samples=1.0, n_estimators=50;, score=0.999 total time=21.7min\n",
      "[CV 1/2] END max_features=1.0, max_samples=1.0, n_estimators=100;, score=0.999 total time=47.0min\n",
      "[CV 2/2] END max_features=1.0, max_samples=1.0, n_estimators=100;, score=0.999 total time=72.3min\n",
      "Best hyperparameters:  {'max_features': 1.0, 'max_samples': 1.0, 'n_estimators': 10}\n",
      "Best score:  0.999481390477725\n"
     ]
    }
   ],
   "source": [
    "#Bagging using Random forest\n",
    "\n",
    "# Define the base classifier\n",
    "base_clf = RandomForestClassifier()\n",
    "\n",
    "# Define the bagging classifier\n",
    "bagging_clf = BaggingClassifier(estimator=base_clf)\n",
    "\n",
    "param_grid = {\n",
    "    'n_estimators': [10, 50, 100],\n",
    "    'max_samples': [0.5, 1.0],\n",
    "    'max_features': [0.5, 1.0],\n",
    "}\n",
    "grid_search = GridSearchCV(estimator=bagging_clf, param_grid=param_grid, cv=2,verbose=3,n_jobs=-1)\n",
    "\n",
    "grid_search.fit(X_train, y_train)\n",
    "print(\"Best hyperparameters: \", grid_search.best_params_)\n",
    "print(\"Best score: \", grid_search.best_score_)\n"
   ]
  },
  {
   "cell_type": "code",
   "execution_count": 11,
   "metadata": {},
   "outputs": [
    {
     "name": "stdout",
     "output_type": "stream",
     "text": [
      "              precision    recall  f1-score   support\n",
      "\n",
      "           0       1.00      1.00      1.00     84989\n",
      "           1       0.93      0.73      0.82       129\n",
      "\n",
      "    accuracy                           1.00     85118\n",
      "   macro avg       0.97      0.86      0.91     85118\n",
      "weighted avg       1.00      1.00      1.00     85118\n",
      "\n"
     ]
    }
   ],
   "source": [
    "# Define the base classifier\n",
    "base_clf = RandomForestClassifier()\n",
    "\n",
    "# Define the bagging classifier\n",
    "bagging_clf = BaggingClassifier(estimator=base_clf, n_estimators=10,max_features=1.0,max_samples=1.0)\n",
    "\n",
    "# Train the bagging classifier on the training data\n",
    "bagging_clf.fit(X_train, y_train)\n",
    "\n",
    "# Evaluate the bagging classifier on the test data\n",
    "y_pred = bagging_clf.predict(X_test)\n",
    "print(classification_report(y_test, y_pred))\n"
   ]
  },
  {
   "cell_type": "code",
   "execution_count": 12,
   "metadata": {},
   "outputs": [
    {
     "name": "stdout",
     "output_type": "stream",
     "text": [
      "Confusion matrix:\n",
      "[[84982     7]\n",
      " [   35    94]]\n"
     ]
    },
    {
     "data": {
      "image/png": "[encoded data removed]",
      "text/plain": [
       "<Figure size 1000x1000 with 2 Axes>"
      ]
     },
     "metadata": {},
     "output_type": "display_data"
    }
   ],
   "source": [
    "from sklearn.metrics import confusion_matrix, ConfusionMatrixDisplay\n",
    "print(\"Confusion matrix:\")\n",
    "print(confusion_matrix(y_test, y_pred))\n",
    "disp = ConfusionMatrixDisplay(confusion_matrix=confusion_matrix(y_test, y_pred),\n",
    "                              display_labels=[0,1])\n",
    "\n",
    "import matplotlib.pyplot as plt\n",
    "fig, ax = plt.subplots(figsize=(10, 10))\n",
    "disp = disp.plot(xticks_rotation='vertical', ax=ax,cmap='summer')\n",
    "plt.show()"
   ]
  },
  {
   "cell_type": "code",
   "execution_count": null,
   "metadata": {},
   "outputs": [],
   "source": []
  }
 ],
 "metadata": {
  "kernelspec": {
   "display_name": ".venv",
   "language": "python",
   "name": ".venv"
  },
  "language_info": {
   "codemirror_mode": {
    "name": "ipython",
    "version": 3
   },
   "file_extension": ".py",
   "mimetype": "text/x-python",
   "name": "python",
   "nbconvert_exporter": "python",
   "pygments_lexer": "ipython3",
   "version": "3.10.11"
  },
  "orig_nbformat": 4
 },
 "nbformat": 4,
 "nbformat_minor": 2
}
