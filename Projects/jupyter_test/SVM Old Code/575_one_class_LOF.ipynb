{
 "cells": [
  {
   "cell_type": "code",
   "execution_count": 18,
   "metadata": {},
   "outputs": [],
   "source": [
    "import pandas as pd\n",
    "from sklearn.ensemble import GradientBoostingClassifier\n",
    "from sklearn.metrics import accuracy_score, f1_score, confusion_matrix, classification_report\n",
    "from sklearn.neighbors import LocalOutlierFactor\n",
    "from sklearn.model_selection import train_test_split\n",
    "from sklearn.model_selection import GridSearchCV\n",
    "import numpy as np\n",
    "\n",
    "\n",
    "SEED = 0"
   ]
  },
  {
   "cell_type": "code",
   "execution_count": 8,
   "metadata": {},
   "outputs": [],
   "source": [
    "data = pd.read_csv(\"creditcard.csv\", header=0)\n",
    "#print(data.info())"
   ]
  },
  {
   "cell_type": "code",
   "execution_count": 9,
   "metadata": {},
   "outputs": [
    {
     "name": "stdout",
     "output_type": "stream",
     "text": [
      "Duplicates 1081\n",
      "Rows 283726, Columns 31\n"
     ]
    }
   ],
   "source": [
    "#Handle Duplicated values\n",
    "print(\"Duplicates\", data.duplicated().sum())\n",
    "data = data.drop_duplicates()\n",
    "print(\"Rows {}, Columns {}\".format(data.shape[0], data.shape[1]))"
   ]
  },
  {
   "cell_type": "code",
   "execution_count": 10,
   "metadata": {},
   "outputs": [
    {
     "data": {
      "text/plain": [
       "Class\n",
       " 1    283253\n",
       "-1       473\n",
       "Name: count, dtype: int64"
      ]
     },
     "execution_count": 10,
     "metadata": {},
     "output_type": "execute_result"
    }
   ],
   "source": [
    "#Convert All majority class to 1 and minority to -1 for oneclass svm\n",
    "data['Class'] = data['Class'].replace({0: 1, 1: -1})\n",
    "#data['Class'].unique()\n",
    "data['Class'].value_counts()"
   ]
  },
  {
   "cell_type": "code",
   "execution_count": 11,
   "metadata": {},
   "outputs": [],
   "source": [
    "x_majority = data[data[\"Class\"]==1]\n",
    "y_majority = x_majority[\"Class\"]\n",
    "x_majority = x_majority.drop(columns=[\"Class\"])\n",
    "x_minority = data[data[\"Class\"]==-1]\n",
    "y_minority = x_minority[\"Class\"]\n",
    "x_minority = x_minority.drop(columns=[\"Class\"])"
   ]
  },
  {
   "cell_type": "code",
   "execution_count": 12,
   "metadata": {},
   "outputs": [],
   "source": [
    "X_train, X_test, y_train, y_test = train_test_split( x_majority, y_majority, test_size=0.2, random_state=SEED )\n",
    "X_test = pd.concat([X_test,x_minority],axis=0)\n",
    "y_test = pd.concat([y_test,y_minority],axis=0)\n"
   ]
  },
  {
   "cell_type": "code",
   "execution_count": 22,
   "metadata": {},
   "outputs": [
    {
     "name": "stdout",
     "output_type": "stream",
     "text": [
      "Fitting 2 folds for each of 3 candidates, totalling 6 fits\n"
     ]
    },
    {
     "name": "stderr",
     "output_type": "stream",
     "text": [
      "/Users/arjunramesh/Desktop/Spring23/Projects/jupyter_test/.venv/lib/python3.10/site-packages/sklearn/model_selection/_validation.py:778: UserWarning: Scoring failed. The score on this train-test partition for these parameters will be set to nan. Details: \n",
      "Traceback (most recent call last):\n",
      "  File \"/Users/arjunramesh/Desktop/Spring23/Projects/jupyter_test/.venv/lib/python3.10/site-packages/sklearn/model_selection/_validation.py\", line 767, in _score\n",
      "    scores = scorer(estimator, X_test, y_test)\n",
      "  File \"/Users/arjunramesh/Desktop/Spring23/Projects/jupyter_test/.venv/lib/python3.10/site-packages/sklearn/metrics/_scorer.py\", line 234, in __call__\n",
      "    return self._score(\n",
      "  File \"/Users/arjunramesh/Desktop/Spring23/Projects/jupyter_test/.venv/lib/python3.10/site-packages/sklearn/metrics/_scorer.py\", line 276, in _score\n",
      "    y_pred = method_caller(estimator, \"predict\", X)\n",
      "  File \"/Users/arjunramesh/Desktop/Spring23/Projects/jupyter_test/.venv/lib/python3.10/site-packages/sklearn/metrics/_scorer.py\", line 73, in _cached_call\n",
      "    return getattr(estimator, method)(*args, **kwargs)\n",
      "  File \"/Users/arjunramesh/Desktop/Spring23/Projects/jupyter_test/.venv/lib/python3.10/site-packages/sklearn/utils/_available_if.py\", line 32, in __get__\n",
      "    if not self.check(obj):\n",
      "  File \"/Users/arjunramesh/Desktop/Spring23/Projects/jupyter_test/.venv/lib/python3.10/site-packages/sklearn/neighbors/_lof.py\", line 329, in _check_novelty_predict\n",
      "    raise AttributeError(msg)\n",
      "AttributeError: predict is not available when novelty=False, use fit_predict if you want to predict on training data. Use novelty=True if you want to use LOF for novelty detection and predict on new unseen data.\n",
      "\n",
      "  warnings.warn(\n",
      "/Users/arjunramesh/Desktop/Spring23/Projects/jupyter_test/.venv/lib/python3.10/site-packages/sklearn/model_selection/_validation.py:778: UserWarning: Scoring failed. The score on this train-test partition for these parameters will be set to nan. Details: \n",
      "Traceback (most recent call last):\n",
      "  File \"/Users/arjunramesh/Desktop/Spring23/Projects/jupyter_test/.venv/lib/python3.10/site-packages/sklearn/model_selection/_validation.py\", line 767, in _score\n",
      "    scores = scorer(estimator, X_test, y_test)\n",
      "  File \"/Users/arjunramesh/Desktop/Spring23/Projects/jupyter_test/.venv/lib/python3.10/site-packages/sklearn/metrics/_scorer.py\", line 234, in __call__\n",
      "    return self._score(\n",
      "  File \"/Users/arjunramesh/Desktop/Spring23/Projects/jupyter_test/.venv/lib/python3.10/site-packages/sklearn/metrics/_scorer.py\", line 276, in _score\n",
      "    y_pred = method_caller(estimator, \"predict\", X)\n",
      "  File \"/Users/arjunramesh/Desktop/Spring23/Projects/jupyter_test/.venv/lib/python3.10/site-packages/sklearn/metrics/_scorer.py\", line 73, in _cached_call\n",
      "    return getattr(estimator, method)(*args, **kwargs)\n",
      "  File \"/Users/arjunramesh/Desktop/Spring23/Projects/jupyter_test/.venv/lib/python3.10/site-packages/sklearn/utils/_available_if.py\", line 32, in __get__\n",
      "    if not self.check(obj):\n",
      "  File \"/Users/arjunramesh/Desktop/Spring23/Projects/jupyter_test/.venv/lib/python3.10/site-packages/sklearn/neighbors/_lof.py\", line 329, in _check_novelty_predict\n",
      "    raise AttributeError(msg)\n",
      "AttributeError: predict is not available when novelty=False, use fit_predict if you want to predict on training data. Use novelty=True if you want to use LOF for novelty detection and predict on new unseen data.\n",
      "\n",
      "  warnings.warn(\n",
      "/Users/arjunramesh/Desktop/Spring23/Projects/jupyter_test/.venv/lib/python3.10/site-packages/sklearn/model_selection/_validation.py:778: UserWarning: Scoring failed. The score on this train-test partition for these parameters will be set to nan. Details: \n",
      "Traceback (most recent call last):\n",
      "  File \"/Users/arjunramesh/Desktop/Spring23/Projects/jupyter_test/.venv/lib/python3.10/site-packages/sklearn/model_selection/_validation.py\", line 767, in _score\n",
      "    scores = scorer(estimator, X_test, y_test)\n",
      "  File \"/Users/arjunramesh/Desktop/Spring23/Projects/jupyter_test/.venv/lib/python3.10/site-packages/sklearn/metrics/_scorer.py\", line 234, in __call__\n",
      "    return self._score(\n",
      "  File \"/Users/arjunramesh/Desktop/Spring23/Projects/jupyter_test/.venv/lib/python3.10/site-packages/sklearn/metrics/_scorer.py\", line 276, in _score\n",
      "    y_pred = method_caller(estimator, \"predict\", X)\n",
      "  File \"/Users/arjunramesh/Desktop/Spring23/Projects/jupyter_test/.venv/lib/python3.10/site-packages/sklearn/metrics/_scorer.py\", line 73, in _cached_call\n",
      "    return getattr(estimator, method)(*args, **kwargs)\n",
      "  File \"/Users/arjunramesh/Desktop/Spring23/Projects/jupyter_test/.venv/lib/python3.10/site-packages/sklearn/utils/_available_if.py\", line 32, in __get__\n",
      "    if not self.check(obj):\n",
      "  File \"/Users/arjunramesh/Desktop/Spring23/Projects/jupyter_test/.venv/lib/python3.10/site-packages/sklearn/neighbors/_lof.py\", line 329, in _check_novelty_predict\n",
      "    raise AttributeError(msg)\n",
      "AttributeError: predict is not available when novelty=False, use fit_predict if you want to predict on training data. Use novelty=True if you want to use LOF for novelty detection and predict on new unseen data.\n",
      "\n",
      "  warnings.warn(\n"
     ]
    },
    {
     "name": "stdout",
     "output_type": "stream",
     "text": [
      "[CV 2/2] END contamination=auto, metric=euclidean, n_neighbors=5, novelty=False;, score=(train=nan, test=nan) total time=  40.9s\n",
      "[CV 2/2] END contamination=auto, metric=euclidean, n_neighbors=10, novelty=False;, score=(train=nan, test=nan) total time=  41.1s\n",
      "[CV 1/2] END contamination=auto, metric=euclidean, n_neighbors=10, novelty=False;, score=(train=nan, test=nan) total time=  41.1s\n"
     ]
    },
    {
     "name": "stderr",
     "output_type": "stream",
     "text": [
      "/Users/arjunramesh/Desktop/Spring23/Projects/jupyter_test/.venv/lib/python3.10/site-packages/sklearn/model_selection/_validation.py:778: UserWarning: Scoring failed. The score on this train-test partition for these parameters will be set to nan. Details: \n",
      "Traceback (most recent call last):\n",
      "  File \"/Users/arjunramesh/Desktop/Spring23/Projects/jupyter_test/.venv/lib/python3.10/site-packages/sklearn/model_selection/_validation.py\", line 767, in _score\n",
      "    scores = scorer(estimator, X_test, y_test)\n",
      "  File \"/Users/arjunramesh/Desktop/Spring23/Projects/jupyter_test/.venv/lib/python3.10/site-packages/sklearn/metrics/_scorer.py\", line 234, in __call__\n",
      "    return self._score(\n",
      "  File \"/Users/arjunramesh/Desktop/Spring23/Projects/jupyter_test/.venv/lib/python3.10/site-packages/sklearn/metrics/_scorer.py\", line 276, in _score\n",
      "    y_pred = method_caller(estimator, \"predict\", X)\n",
      "  File \"/Users/arjunramesh/Desktop/Spring23/Projects/jupyter_test/.venv/lib/python3.10/site-packages/sklearn/metrics/_scorer.py\", line 73, in _cached_call\n",
      "    return getattr(estimator, method)(*args, **kwargs)\n",
      "  File \"/Users/arjunramesh/Desktop/Spring23/Projects/jupyter_test/.venv/lib/python3.10/site-packages/sklearn/utils/_available_if.py\", line 32, in __get__\n",
      "    if not self.check(obj):\n",
      "  File \"/Users/arjunramesh/Desktop/Spring23/Projects/jupyter_test/.venv/lib/python3.10/site-packages/sklearn/neighbors/_lof.py\", line 329, in _check_novelty_predict\n",
      "    raise AttributeError(msg)\n",
      "AttributeError: predict is not available when novelty=False, use fit_predict if you want to predict on training data. Use novelty=True if you want to use LOF for novelty detection and predict on new unseen data.\n",
      "\n",
      "  warnings.warn(\n"
     ]
    },
    {
     "name": "stdout",
     "output_type": "stream",
     "text": [
      "[CV 1/2] END contamination=auto, metric=euclidean, n_neighbors=5, novelty=False;, score=(train=nan, test=nan) total time=  41.6s\n"
     ]
    },
    {
     "name": "stderr",
     "output_type": "stream",
     "text": [
      "/Users/arjunramesh/Desktop/Spring23/Projects/jupyter_test/.venv/lib/python3.10/site-packages/sklearn/model_selection/_validation.py:778: UserWarning: Scoring failed. The score on this train-test partition for these parameters will be set to nan. Details: \n",
      "Traceback (most recent call last):\n",
      "  File \"/Users/arjunramesh/Desktop/Spring23/Projects/jupyter_test/.venv/lib/python3.10/site-packages/sklearn/model_selection/_validation.py\", line 767, in _score\n",
      "    scores = scorer(estimator, X_test, y_test)\n",
      "  File \"/Users/arjunramesh/Desktop/Spring23/Projects/jupyter_test/.venv/lib/python3.10/site-packages/sklearn/metrics/_scorer.py\", line 234, in __call__\n",
      "    return self._score(\n",
      "  File \"/Users/arjunramesh/Desktop/Spring23/Projects/jupyter_test/.venv/lib/python3.10/site-packages/sklearn/metrics/_scorer.py\", line 276, in _score\n",
      "    y_pred = method_caller(estimator, \"predict\", X)\n",
      "  File \"/Users/arjunramesh/Desktop/Spring23/Projects/jupyter_test/.venv/lib/python3.10/site-packages/sklearn/metrics/_scorer.py\", line 73, in _cached_call\n",
      "    return getattr(estimator, method)(*args, **kwargs)\n",
      "  File \"/Users/arjunramesh/Desktop/Spring23/Projects/jupyter_test/.venv/lib/python3.10/site-packages/sklearn/utils/_available_if.py\", line 32, in __get__\n",
      "    if not self.check(obj):\n",
      "  File \"/Users/arjunramesh/Desktop/Spring23/Projects/jupyter_test/.venv/lib/python3.10/site-packages/sklearn/neighbors/_lof.py\", line 329, in _check_novelty_predict\n",
      "    raise AttributeError(msg)\n",
      "AttributeError: predict is not available when novelty=False, use fit_predict if you want to predict on training data. Use novelty=True if you want to use LOF for novelty detection and predict on new unseen data.\n",
      "\n",
      "  warnings.warn(\n",
      "/Users/arjunramesh/Desktop/Spring23/Projects/jupyter_test/.venv/lib/python3.10/site-packages/sklearn/model_selection/_validation.py:778: UserWarning: Scoring failed. The score on this train-test partition for these parameters will be set to nan. Details: \n",
      "Traceback (most recent call last):\n",
      "  File \"/Users/arjunramesh/Desktop/Spring23/Projects/jupyter_test/.venv/lib/python3.10/site-packages/sklearn/model_selection/_validation.py\", line 767, in _score\n",
      "    scores = scorer(estimator, X_test, y_test)\n",
      "  File \"/Users/arjunramesh/Desktop/Spring23/Projects/jupyter_test/.venv/lib/python3.10/site-packages/sklearn/metrics/_scorer.py\", line 234, in __call__\n",
      "    return self._score(\n",
      "  File \"/Users/arjunramesh/Desktop/Spring23/Projects/jupyter_test/.venv/lib/python3.10/site-packages/sklearn/metrics/_scorer.py\", line 276, in _score\n",
      "    y_pred = method_caller(estimator, \"predict\", X)\n",
      "  File \"/Users/arjunramesh/Desktop/Spring23/Projects/jupyter_test/.venv/lib/python3.10/site-packages/sklearn/metrics/_scorer.py\", line 73, in _cached_call\n",
      "    return getattr(estimator, method)(*args, **kwargs)\n",
      "  File \"/Users/arjunramesh/Desktop/Spring23/Projects/jupyter_test/.venv/lib/python3.10/site-packages/sklearn/utils/_available_if.py\", line 32, in __get__\n",
      "    if not self.check(obj):\n",
      "  File \"/Users/arjunramesh/Desktop/Spring23/Projects/jupyter_test/.venv/lib/python3.10/site-packages/sklearn/neighbors/_lof.py\", line 329, in _check_novelty_predict\n",
      "    raise AttributeError(msg)\n",
      "AttributeError: predict is not available when novelty=False, use fit_predict if you want to predict on training data. Use novelty=True if you want to use LOF for novelty detection and predict on new unseen data.\n",
      "\n",
      "  warnings.warn(\n",
      "/Users/arjunramesh/Desktop/Spring23/Projects/jupyter_test/.venv/lib/python3.10/site-packages/sklearn/model_selection/_search.py:952: UserWarning: One or more of the test scores are non-finite: [nan nan nan]\n",
      "  warnings.warn(\n",
      "/Users/arjunramesh/Desktop/Spring23/Projects/jupyter_test/.venv/lib/python3.10/site-packages/sklearn/model_selection/_search.py:952: UserWarning: One or more of the train scores are non-finite: [nan nan nan]\n",
      "  warnings.warn(\n"
     ]
    },
    {
     "name": "stdout",
     "output_type": "stream",
     "text": [
      "[CV 1/2] END contamination=auto, metric=euclidean, n_neighbors=20, novelty=False;, score=(train=nan, test=nan) total time=  42.0s\n",
      "[CV 2/2] END contamination=auto, metric=euclidean, n_neighbors=20, novelty=False;, score=(train=nan, test=nan) total time=  42.0s\n",
      "{'contamination': 'auto', 'metric': 'euclidean', 'n_neighbors': 5, 'novelty': False}\n",
      "CPU times: user 3min 7s, sys: 1.2 s, total: 3min 9s\n",
      "Wall time: 1min 8s\n"
     ]
    }
   ],
   "source": [
    "%%time\n",
    "LOF = LocalOutlierFactor()\n",
    "param_grid = {\n",
    "    'n_neighbors': [5, 10, 20],\n",
    "    'metric': ['euclidean'],\n",
    "    'contamination': ['auto'],\n",
    "    'novelty' : [False]\n",
    "}\n",
    "grid_best_lof = GridSearchCV(LOF, param_grid=param_grid, scoring='f1',return_train_score=True,verbose=3,n_jobs=-1,cv=2)\n",
    "grid_search_lof = grid_best_lof.fit(X_train,np.ones(X_train.shape[0],dtype=np.int8))\n",
    "print(grid_search_lof.best_params_)"
   ]
  },
  {
   "cell_type": "code",
   "execution_count": null,
   "metadata": {},
   "outputs": [],
   "source": []
  }
 ],
 "metadata": {
  "kernelspec": {
   "display_name": ".venv",
   "language": "python",
   "name": ".venv"
  },
  "language_info": {
   "codemirror_mode": {
    "name": "ipython",
    "version": 3
   },
   "file_extension": ".py",
   "mimetype": "text/x-python",
   "name": "python",
   "nbconvert_exporter": "python",
   "pygments_lexer": "ipython3",
   "version": "3.10.11"
  },
  "orig_nbformat": 4
 },
 "nbformat": 4,
 "nbformat_minor": 2
}
