{
 "cells": [
  {
   "cell_type": "code",
   "execution_count": 16,
   "metadata": {},
   "outputs": [],
   "source": [
    "import pandas as pd\n",
    "import numpy as np\n",
    "from sklearn.ensemble import IsolationForest\n",
    "from sklearn.metrics import accuracy_score, f1_score, confusion_matrix, classification_report\n",
    "from sklearn.model_selection import train_test_split\n",
    "from sklearn.model_selection import GridSearchCV\n",
    "\n",
    "SEED=0"
   ]
  },
  {
   "cell_type": "code",
   "execution_count": 10,
   "metadata": {},
   "outputs": [],
   "source": [
    "data = pd.read_csv(\"creditcard.csv\", header=0)\n",
    "#data.head()"
   ]
  },
  {
   "cell_type": "code",
   "execution_count": 11,
   "metadata": {},
   "outputs": [
    {
     "name": "stdout",
     "output_type": "stream",
     "text": [
      "Duplicates 1081\n",
      "Rows 283726, Columns 31\n"
     ]
    }
   ],
   "source": [
    "print(\"Duplicates\", data.duplicated().sum())\n",
    "data = data.drop_duplicates()\n",
    "print(\"Rows {}, Columns {}\".format(data.shape[0], data.shape[1]))"
   ]
  },
  {
   "cell_type": "code",
   "execution_count": 12,
   "metadata": {},
   "outputs": [
    {
     "data": {
      "text/plain": [
       "Class\n",
       " 1    283253\n",
       "-1       473\n",
       "Name: count, dtype: int64"
      ]
     },
     "execution_count": 12,
     "metadata": {},
     "output_type": "execute_result"
    }
   ],
   "source": [
    "#Convert All majority class to 1 and minority to -1 for oneclass svm\n",
    "data['Class'] = data['Class'].replace({0: 1, 1: -1})\n",
    "#data['Class'].unique()\n",
    "data['Class'].value_counts()"
   ]
  },
  {
   "cell_type": "code",
   "execution_count": 13,
   "metadata": {},
   "outputs": [],
   "source": [
    "x_majority = data[data[\"Class\"]==1]\n",
    "y_majority = x_majority[\"Class\"]\n",
    "x_majority = x_majority.drop(columns=[\"Class\"])\n",
    "x_minority = data[data[\"Class\"]==-1]\n",
    "y_minority = x_minority[\"Class\"]\n",
    "x_minority = x_minority.drop(columns=[\"Class\"])"
   ]
  },
  {
   "cell_type": "code",
   "execution_count": 14,
   "metadata": {},
   "outputs": [],
   "source": [
    "X_train, X_test, y_train, y_test = train_test_split( x_majority, y_majority, test_size=0.2, random_state=SEED )\n",
    "X_test = pd.concat([X_test,x_minority],axis=0)\n",
    "y_test = pd.concat([y_test,y_minority],axis=0)\n"
   ]
  },
  {
   "cell_type": "code",
   "execution_count": 19,
   "metadata": {},
   "outputs": [
    {
     "name": "stdout",
     "output_type": "stream",
     "text": [
      "(226602, 30)\n"
     ]
    }
   ],
   "source": [
    "print(X_train.shape)"
   ]
  },
  {
   "cell_type": "code",
   "execution_count": 17,
   "metadata": {},
   "outputs": [
    {
     "name": "stdout",
     "output_type": "stream",
     "text": [
      "Fitting 2 folds for each of 3 candidates, totalling 6 fits\n",
      "[CV 2/2] END contamination=auto, max_samples=auto, n_estimators=10, random_state=0;, score=(train=0.969, test=0.970) total time=   0.3s\n",
      "[CV 1/2] END contamination=auto, max_samples=auto, n_estimators=10, random_state=0;, score=(train=0.946, test=0.946) total time=   0.3s\n",
      "[CV 1/2] END contamination=auto, max_samples=auto, n_estimators=100, random_state=0;, score=(train=0.979, test=0.979) total time=   2.1s\n",
      "[CV 2/2] END contamination=auto, max_samples=auto, n_estimators=100, random_state=0;, score=(train=0.981, test=0.982) total time=   2.2s\n",
      "[CV 2/2] END contamination=auto, max_samples=auto, n_estimators=200, random_state=0;, score=(train=0.983, test=0.983) total time=   4.0s\n",
      "[CV 1/2] END contamination=auto, max_samples=auto, n_estimators=200, random_state=0;, score=(train=0.980, test=0.980) total time=   4.1s\n",
      "{'contamination': 'auto', 'max_samples': 'auto', 'n_estimators': 200, 'random_state': 0}\n",
      "CPU times: user 313 ms, sys: 141 ms, total: 454 ms\n",
      "Wall time: 8.86 s\n"
     ]
    }
   ],
   "source": [
    "%%time\n",
    "iforest = IsolationForest()\n",
    "param_grid = {'n_estimators': [10,100,200],'max_samples' : [\"auto\"],'contamination': ['auto'],'random_state' : [SEED]}\n",
    "grid_best_iforest = GridSearchCV(iforest, param_grid=param_grid, scoring='f1',return_train_score=True,verbose=3,n_jobs=-1,cv=2)\n",
    "grid_search_iforest =grid_best_iforest.fit(X_train,np.ones(X_train.shape[0],dtype=np.int8))\n",
    "print(grid_search_iforest.best_params_)"
   ]
  },
  {
   "cell_type": "code",
   "execution_count": 22,
   "metadata": {},
   "outputs": [
    {
     "name": "stdout",
     "output_type": "stream",
     "text": [
      "Accuracy Score: 96.50%\n",
      "F1 Score: 98.20%\n",
      "Confusion Matrix:\n",
      " [[  394    79]\n",
      " [ 1922 54729]]\n",
      "              precision    recall  f1-score   support\n",
      "\n",
      "          -1       0.17      0.83      0.28       473\n",
      "           1       1.00      0.97      0.98     56651\n",
      "\n",
      "    accuracy                           0.96     57124\n",
      "   macro avg       0.58      0.90      0.63     57124\n",
      "weighted avg       0.99      0.96      0.98     57124\n",
      "\n"
     ]
    }
   ],
   "source": [
    "iforest_act = IsolationForest(contamination=\"auto\",max_samples=\"auto\",n_estimators=200,random_state=SEED)\n",
    "iforest_act.fit(X_train)\n",
    "y_pred = iforest_act.decision_function(X_test)\n",
    "y_pred = [-1 if s < 0 else 1 for s in y_pred]\n",
    "print(\"Accuracy Score: {:.2f}%\".format(accuracy_score(y_test, y_pred) * 100))\n",
    "print(\"F1 Score: {:.2f}%\".format(f1_score(y_test, y_pred) * 100))\n",
    "print(\"Confusion Matrix:\\n\", confusion_matrix(y_test, y_pred))\n",
    "print(classification_report(y_test,y_pred))"
   ]
  },
  {
   "cell_type": "code",
   "execution_count": 23,
   "metadata": {},
   "outputs": [
    {
     "name": "stdout",
     "output_type": "stream",
     "text": [
      "Confusion matrix:\n",
      "[[  394    79]\n",
      " [ 1922 54729]]\n"
     ]
    },
    {
     "data": {
      "image/png": "[encoded data removed]",
      "text/plain": [
       "<Figure size 1000x1000 with 2 Axes>"
      ]
     },
     "metadata": {},
     "output_type": "display_data"
    }
   ],
   "source": [
    "from sklearn.metrics import confusion_matrix, ConfusionMatrixDisplay\n",
    "print(\"Confusion matrix:\")\n",
    "print(confusion_matrix(y_test, y_pred))\n",
    "disp = ConfusionMatrixDisplay(confusion_matrix=confusion_matrix(y_test, y_pred),\n",
    "                              display_labels=[-1,1])\n",
    "\n",
    "import matplotlib.pyplot as plt\n",
    "fig, ax = plt.subplots(figsize=(10, 10))\n",
    "disp = disp.plot(xticks_rotation='vertical', ax=ax,cmap='summer')\n",
    "plt.show()"
   ]
  },
  {
   "cell_type": "code",
   "execution_count": null,
   "metadata": {},
   "outputs": [],
   "source": []
  }
 ],
 "metadata": {
  "kernelspec": {
   "display_name": ".venv",
   "language": "python",
   "name": ".venv"
  },
  "language_info": {
   "codemirror_mode": {
    "name": "ipython",
    "version": 3
   },
   "file_extension": ".py",
   "mimetype": "text/x-python",
   "name": "python",
   "nbconvert_exporter": "python",
   "pygments_lexer": "ipython3",
   "version": "3.10.11"
  },
  "orig_nbformat": 4
 },
 "nbformat": 4,
 "nbformat_minor": 2
}
