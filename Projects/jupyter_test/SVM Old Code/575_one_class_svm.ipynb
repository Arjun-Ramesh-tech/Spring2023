{
 "cells": [
  {
   "cell_type": "code",
   "execution_count": null,
   "metadata": {},
   "outputs": [],
   "source": [
    "!kaggle datasets download -d mlg-ulb/creditcardfraud\n",
    "!unzip \\*.zip  && rm *.zip"
   ]
  },
  {
   "cell_type": "code",
   "execution_count": 92,
   "metadata": {},
   "outputs": [],
   "source": [
    "import pandas as pd\n",
    "import numpy as np\n",
    "from sklearn.model_selection import train_test_split\n",
    "from sklearn.svm import OneClassSVM\n",
    "from sklearn.metrics import accuracy_score, f1_score, confusion_matrix, classification_report\n",
    "from sklearn.model_selection import GridSearchCV\n",
    "\n",
    "SEED = 0"
   ]
  },
  {
   "cell_type": "code",
   "execution_count": 93,
   "metadata": {},
   "outputs": [],
   "source": [
    "data = pd.read_csv(\"creditcard.csv\", header=0)\n",
    "#print(data.info())"
   ]
  },
  {
   "cell_type": "code",
   "execution_count": 94,
   "metadata": {},
   "outputs": [
    {
     "name": "stdout",
     "output_type": "stream",
     "text": [
      "Duplicates 1081\n",
      "Rows 283726, Columns 31\n"
     ]
    }
   ],
   "source": [
    "#Handle Duplicated values\n",
    "print(\"Duplicates\", data.duplicated().sum())\n",
    "data = data.drop_duplicates()\n",
    "print(\"Rows {}, Columns {}\".format(data.shape[0], data.shape[1]))"
   ]
  },
  {
   "cell_type": "code",
   "execution_count": 95,
   "metadata": {},
   "outputs": [
    {
     "data": {
      "text/plain": [
       "Class\n",
       " 1    283253\n",
       "-1       473\n",
       "Name: count, dtype: int64"
      ]
     },
     "execution_count": 95,
     "metadata": {},
     "output_type": "execute_result"
    }
   ],
   "source": [
    "#Convert All majority class to 1 and minority to -1 for oneclass svm\n",
    "data['Class'] = data['Class'].replace({0: 1, 1: -1})\n",
    "#data['Class'].unique()\n",
    "data['Class'].value_counts()"
   ]
  },
  {
   "cell_type": "code",
   "execution_count": 96,
   "metadata": {},
   "outputs": [],
   "source": [
    "x_majority = data[data[\"Class\"]==1]\n",
    "y_majority = x_majority[\"Class\"]\n",
    "x_majority = x_majority.drop(columns=[\"Class\"])\n",
    "x_minority = data[data[\"Class\"]==-1]\n",
    "y_minority = x_minority[\"Class\"]\n",
    "x_minority = x_minority.drop(columns=[\"Class\"])"
   ]
  },
  {
   "cell_type": "code",
   "execution_count": 97,
   "metadata": {},
   "outputs": [],
   "source": [
    "X_train, X_test, y_train, y_test = train_test_split( x_majority, y_majority, test_size=0.2, random_state=SEED )\n",
    "X_test = pd.concat([X_test,x_minority],axis=0)\n",
    "y_test = pd.concat([y_test,y_minority],axis=0)\n"
   ]
  },
  {
   "cell_type": "code",
   "execution_count": null,
   "metadata": {},
   "outputs": [],
   "source": [
    "ocsvm = OneClassSVM(kernel='rbf', nu=0.05, gamma='scale')\n",
    "ocsvm.fit(X_train)\n",
    "y_pred = ocsvm.predict(X_test)\n",
    "print(classification_report(y_pred,y_test))"
   ]
  },
  {
   "cell_type": "code",
   "execution_count": null,
   "metadata": {},
   "outputs": [],
   "source": [
    "# Calculate and print the performance metrics\n",
    "print(\"Accuracy Score: {:.2f}%\".format(accuracy_score(y_test, y_pred) * 100))\n",
    "print(\"F1 Score: {:.2f}%\".format(f1_score(y_test, y_pred) * 100))\n",
    "print(\"Confusion Matrix:\\n\", confusion_matrix(y_pred, y_test))\n",
    "print(\"Classification report\\n\", classification_report(y_test, y_pred))"
   ]
  },
  {
   "cell_type": "code",
   "execution_count": 106,
   "metadata": {},
   "outputs": [
    {
     "name": "stdout",
     "output_type": "stream",
     "text": [
      "Fitting 2 folds for each of 18 candidates, totalling 36 fits\n",
      "[CV] END .................gamma=scale, kernel=linear, nu=0.1; total time= 2.3min\n",
      "[CV] END .................gamma=scale, kernel=linear, nu=0.1; total time= 4.6min\n",
      "[CV] END ....................gamma=scale, kernel=rbf, nu=0.1; total time= 3.8min\n",
      "[CV] END ....................gamma=scale, kernel=rbf, nu=0.1; total time= 3.7min\n",
      "[CV] END .................gamma=scale, kernel=linear, nu=0.5; total time=15.2min\n",
      "[CV] END .................gamma=scale, kernel=linear, nu=0.5; total time=14.9min\n",
      "[CV] END ...................gamma=scale, kernel=poly, nu=0.1; total time= 2.4min\n"
     ]
    },
    {
     "name": "stderr",
     "output_type": "stream",
     "text": [
      "/Users/arjunramesh/Desktop/Spring23/Projects/jupyter_test/.venv/lib/python3.10/site-packages/joblib/externals/loky/process_executor.py:700: UserWarning: A worker stopped while some jobs were given to the executor. This can be caused by a too short worker timeout or by a memory leak.\n",
      "  warnings.warn(\n"
     ]
    },
    {
     "name": "stdout",
     "output_type": "stream",
     "text": [
      "[CV] END ...................gamma=scale, kernel=poly, nu=0.1; total time= 2.5min\n",
      "[CV] END ....................gamma=scale, kernel=rbf, nu=0.5; total time=23.3min\n",
      "[CV] END ....................gamma=scale, kernel=rbf, nu=0.5; total time=23.4min\n",
      "[CV] END ...................gamma=scale, kernel=poly, nu=0.5; total time=13.8min\n",
      "[CV] END .................gamma=scale, kernel=linear, nu=0.9; total time=30.1min\n",
      "[CV] END .................gamma=scale, kernel=linear, nu=0.9; total time=31.3min\n",
      "[CV] END ...................gamma=scale, kernel=poly, nu=0.5; total time=13.9min\n",
      "[CV] END ....................gamma=scale, kernel=rbf, nu=0.9; total time=45.4min\n",
      "[CV] END ....................gamma=scale, kernel=rbf, nu=0.9; total time=45.5min\n",
      "[CV] END ...................gamma=scale, kernel=poly, nu=0.9; total time=30.0min\n",
      "[CV] END ...................gamma=scale, kernel=poly, nu=0.9; total time=30.1min\n",
      "[CV] END ..................gamma=auto, kernel=linear, nu=0.1; total time= 2.1min\n",
      "[CV] END ..................gamma=auto, kernel=linear, nu=0.1; total time= 4.4min\n",
      "[CV] END ..................gamma=auto, kernel=linear, nu=0.5; total time=34.6min\n",
      "[CV] END ..................gamma=auto, kernel=linear, nu=0.5; total time=34.2min\n",
      "[CV] END .....................gamma=auto, kernel=rbf, nu=0.1; total time=62.1min\n",
      "[CV] END .....................gamma=auto, kernel=rbf, nu=0.1; total time=62.0min\n",
      "[CV] END ....................gamma=auto, kernel=poly, nu=0.1; total time= 2.2min\n",
      "[CV] END ....................gamma=auto, kernel=poly, nu=0.1; total time= 1.8min\n",
      "[CV] END .....................gamma=auto, kernel=rbf, nu=0.5; total time=65.5min\n",
      "[CV] END .....................gamma=auto, kernel=rbf, nu=0.5; total time=65.8min\n",
      "[CV] END .....................gamma=auto, kernel=rbf, nu=0.9; total time=53.5min\n",
      "[CV] END .....................gamma=auto, kernel=rbf, nu=0.9; total time=54.7min\n",
      "[CV] END ....................gamma=auto, kernel=poly, nu=0.5; total time=13.8min\n",
      "[CV] END ....................gamma=auto, kernel=poly, nu=0.5; total time=13.9min\n",
      "[CV] END ..................gamma=auto, kernel=linear, nu=0.9; total time=28.0min\n",
      "[CV] END ..................gamma=auto, kernel=linear, nu=0.9; total time=27.3min\n",
      "[CV] END ....................gamma=auto, kernel=poly, nu=0.9; total time=25.9min\n",
      "[CV] END ....................gamma=auto, kernel=poly, nu=0.9; total time=25.3min\n",
      "{'gamma': 'scale', 'kernel': 'linear', 'nu': 0.1}\n",
      "CPU times: user 6min 30s, sys: 6.98 s, total: 6min 37s\n",
      "Wall time: 2h 34min 18s\n"
     ]
    }
   ],
   "source": [
    "%%time\n",
    "ocsvm_grid = OneClassSVM()\n",
    "param_grid = {'kernel': ['rbf','linear','poly'],'nu' : [0.1,0.5,0.9],'gamma': ['scale','auto']}\n",
    "grid_best_ocsvm = GridSearchCV(ocsvm_grid, param_grid=param_grid, scoring='f1',return_train_score=True,verbose=2,n_jobs=-1,cv=2)\n",
    "grid_search_svm=grid_best_ocsvm.fit(X_train,np.ones(X_train.shape[0],dtype=np.int8))\n",
    "print(grid_search_svm.best_params_)"
   ]
  },
  {
   "cell_type": "code",
   "execution_count": 107,
   "metadata": {},
   "outputs": [
    {
     "name": "stdout",
     "output_type": "stream",
     "text": [
      "              precision    recall  f1-score   support\n",
      "\n",
      "          -1       0.20      0.02      0.03      5669\n",
      "           1       0.90      0.99      0.94     51455\n",
      "\n",
      "    accuracy                           0.90     57124\n",
      "   macro avg       0.55      0.50      0.49     57124\n",
      "weighted avg       0.83      0.90      0.85     57124\n",
      "\n"
     ]
    }
   ],
   "source": [
    "ocsvm = OneClassSVM(kernel='linear', nu=0.1, gamma='scale')\n",
    "ocsvm.fit(X_train)\n",
    "y_pred = ocsvm.predict(X_test)\n",
    "print(classification_report(y_pred,y_test))"
   ]
  },
  {
   "cell_type": "code",
   "execution_count": 116,
   "metadata": {},
   "outputs": [
    {
     "name": "stdout",
     "output_type": "stream",
     "text": [
      "[[   93   380]\n",
      " [ 5576 51075]]\n"
     ]
    }
   ],
   "source": [
    "print(confusion_matrix(y_test,y_pred))"
   ]
  },
  {
   "cell_type": "code",
   "execution_count": 114,
   "metadata": {},
   "outputs": [
    {
     "name": "stdout",
     "output_type": "stream",
     "text": [
      "Confusion matrix:\n",
      "[[   93   380]\n",
      " [ 5576 51075]]\n"
     ]
    }
   ],
   "source": [
    "from sklearn.metrics import confusion_matrix, ConfusionMatrixDisplay\n",
    "print(\"Confusion matrix:\")\n",
    "print(confusion_matrix(y_test, y_pred))\n",
    "disp = ConfusionMatrixDisplay(confusion_matrix=confusion_matrix(y_test, y_pred),\n",
    "                              display_labels=[-1,1])"
   ]
  },
  {
   "cell_type": "code",
   "execution_count": 115,
   "metadata": {},
   "outputs": [
    {
     "data": {
      "image/png": "[encoded data removed]",
      "text/plain": [
       "<Figure size 1000x1000 with 2 Axes>"
      ]
     },
     "metadata": {},
     "output_type": "display_data"
    }
   ],
   "source": [
    "import matplotlib.pyplot as plt\n",
    "fig, ax = plt.subplots(figsize=(10, 10))\n",
    "disp = disp.plot(xticks_rotation='vertical', ax=ax,cmap='summer')\n",
    "plt.show()"
   ]
  },
  {
   "cell_type": "code",
   "execution_count": null,
   "metadata": {},
   "outputs": [],
   "source": []
  }
 ],
 "metadata": {
  "kernelspec": {
   "display_name": ".venv",
   "language": "python",
   "name": ".venv"
  },
  "language_info": {
   "codemirror_mode": {
    "name": "ipython",
    "version": 3
   },
   "file_extension": ".py",
   "mimetype": "text/x-python",
   "name": "python",
   "nbconvert_exporter": "python",
   "pygments_lexer": "ipython3",
   "version": "3.10.11"
  },
  "orig_nbformat": 4
 },
 "nbformat": 4,
 "nbformat_minor": 2
}
