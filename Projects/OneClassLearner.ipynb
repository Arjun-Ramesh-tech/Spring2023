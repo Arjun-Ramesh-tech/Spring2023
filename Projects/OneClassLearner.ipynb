{
  "cells": [
    {
      "cell_type": "code",
      "execution_count": null,
      "metadata": {
        "id": "ZGnhTRekxW_T"
      },
      "outputs": [],
      "source": [
        "SEED = 0"
      ]
    },
    {
      "cell_type": "code",
      "execution_count": null,
      "metadata": {
        "colab": {
          "base_uri": "https://localhost:8080/"
        },
        "id": "7w_Q2oYUxbJh",
        "outputId": "454a435d-23d0-43a4-e5fc-646e47f0545c"
      },
      "outputs": [
        {
          "name": "stdout",
          "output_type": "stream",
          "text": [
            "Mounted at /content/gdrive\n",
            "/content/gdrive/My Drive/Kaggle\n"
          ]
        }
      ],
      "source": [
        "from google.colab import drive\n",
        "drive.mount('/content/gdrive')\n",
        "import os\n",
        "os.environ['KAGGLE_CONFIG_DIR'] = \"/content/gdrive/My Drive/Kaggle\"\n",
        "%cd /content/gdrive/My Drive/Kaggle"
      ]
    },
    {
      "cell_type": "code",
      "execution_count": null,
      "metadata": {
        "colab": {
          "base_uri": "https://localhost:8080/",
          "height": 300
        },
        "id": "k6zGCC2Qxcp2",
        "outputId": "4fbf7577-a7e0-4b6f-9b11-44f16ae6ccc3"
      },
      "outputs": [
        {
          "data": {
            "text/html": [
              "\n",
              "  <div id=\"df-de1700cc-94fa-4e67-b940-0a4d10b0cf97\">\n",
              "    <div class=\"colab-df-container\">\n",
              "      <div>\n",
              "<style scoped>\n",
              "    .dataframe tbody tr th:only-of-type {\n",
              "        vertical-align: middle;\n",
              "    }\n",
              "\n",
              "    .dataframe tbody tr th {\n",
              "        vertical-align: top;\n",
              "    }\n",
              "\n",
              "    .dataframe thead th {\n",
              "        text-align: right;\n",
              "    }\n",
              "</style>\n",
              "<table border=\"1\" class=\"dataframe\">\n",
              "  <thead>\n",
              "    <tr style=\"text-align: right;\">\n",
              "      <th></th>\n",
              "      <th>Time</th>\n",
              "      <th>V1</th>\n",
              "      <th>V2</th>\n",
              "      <th>V3</th>\n",
              "      <th>V4</th>\n",
              "      <th>V5</th>\n",
              "      <th>V6</th>\n",
              "      <th>V7</th>\n",
              "      <th>V8</th>\n",
              "      <th>V9</th>\n",
              "      <th>...</th>\n",
              "      <th>V21</th>\n",
              "      <th>V22</th>\n",
              "      <th>V23</th>\n",
              "      <th>V24</th>\n",
              "      <th>V25</th>\n",
              "      <th>V26</th>\n",
              "      <th>V27</th>\n",
              "      <th>V28</th>\n",
              "      <th>Amount</th>\n",
              "      <th>Class</th>\n",
              "    </tr>\n",
              "  </thead>\n",
              "  <tbody>\n",
              "    <tr>\n",
              "      <th>0</th>\n",
              "      <td>0.0</td>\n",
              "      <td>-1.359807</td>\n",
              "      <td>-0.072781</td>\n",
              "      <td>2.536347</td>\n",
              "      <td>1.378155</td>\n",
              "      <td>-0.338321</td>\n",
              "      <td>0.462388</td>\n",
              "      <td>0.239599</td>\n",
              "      <td>0.098698</td>\n",
              "      <td>0.363787</td>\n",
              "      <td>...</td>\n",
              "      <td>-0.018307</td>\n",
              "      <td>0.277838</td>\n",
              "      <td>-0.110474</td>\n",
              "      <td>0.066928</td>\n",
              "      <td>0.128539</td>\n",
              "      <td>-0.189115</td>\n",
              "      <td>0.133558</td>\n",
              "      <td>-0.021053</td>\n",
              "      <td>149.62</td>\n",
              "      <td>0</td>\n",
              "    </tr>\n",
              "    <tr>\n",
              "      <th>1</th>\n",
              "      <td>0.0</td>\n",
              "      <td>1.191857</td>\n",
              "      <td>0.266151</td>\n",
              "      <td>0.166480</td>\n",
              "      <td>0.448154</td>\n",
              "      <td>0.060018</td>\n",
              "      <td>-0.082361</td>\n",
              "      <td>-0.078803</td>\n",
              "      <td>0.085102</td>\n",
              "      <td>-0.255425</td>\n",
              "      <td>...</td>\n",
              "      <td>-0.225775</td>\n",
              "      <td>-0.638672</td>\n",
              "      <td>0.101288</td>\n",
              "      <td>-0.339846</td>\n",
              "      <td>0.167170</td>\n",
              "      <td>0.125895</td>\n",
              "      <td>-0.008983</td>\n",
              "      <td>0.014724</td>\n",
              "      <td>2.69</td>\n",
              "      <td>0</td>\n",
              "    </tr>\n",
              "    <tr>\n",
              "      <th>2</th>\n",
              "      <td>1.0</td>\n",
              "      <td>-1.358354</td>\n",
              "      <td>-1.340163</td>\n",
              "      <td>1.773209</td>\n",
              "      <td>0.379780</td>\n",
              "      <td>-0.503198</td>\n",
              "      <td>1.800499</td>\n",
              "      <td>0.791461</td>\n",
              "      <td>0.247676</td>\n",
              "      <td>-1.514654</td>\n",
              "      <td>...</td>\n",
              "      <td>0.247998</td>\n",
              "      <td>0.771679</td>\n",
              "      <td>0.909412</td>\n",
              "      <td>-0.689281</td>\n",
              "      <td>-0.327642</td>\n",
              "      <td>-0.139097</td>\n",
              "      <td>-0.055353</td>\n",
              "      <td>-0.059752</td>\n",
              "      <td>378.66</td>\n",
              "      <td>0</td>\n",
              "    </tr>\n",
              "    <tr>\n",
              "      <th>3</th>\n",
              "      <td>1.0</td>\n",
              "      <td>-0.966272</td>\n",
              "      <td>-0.185226</td>\n",
              "      <td>1.792993</td>\n",
              "      <td>-0.863291</td>\n",
              "      <td>-0.010309</td>\n",
              "      <td>1.247203</td>\n",
              "      <td>0.237609</td>\n",
              "      <td>0.377436</td>\n",
              "      <td>-1.387024</td>\n",
              "      <td>...</td>\n",
              "      <td>-0.108300</td>\n",
              "      <td>0.005274</td>\n",
              "      <td>-0.190321</td>\n",
              "      <td>-1.175575</td>\n",
              "      <td>0.647376</td>\n",
              "      <td>-0.221929</td>\n",
              "      <td>0.062723</td>\n",
              "      <td>0.061458</td>\n",
              "      <td>123.50</td>\n",
              "      <td>0</td>\n",
              "    </tr>\n",
              "    <tr>\n",
              "      <th>4</th>\n",
              "      <td>2.0</td>\n",
              "      <td>-1.158233</td>\n",
              "      <td>0.877737</td>\n",
              "      <td>1.548718</td>\n",
              "      <td>0.403034</td>\n",
              "      <td>-0.407193</td>\n",
              "      <td>0.095921</td>\n",
              "      <td>0.592941</td>\n",
              "      <td>-0.270533</td>\n",
              "      <td>0.817739</td>\n",
              "      <td>...</td>\n",
              "      <td>-0.009431</td>\n",
              "      <td>0.798278</td>\n",
              "      <td>-0.137458</td>\n",
              "      <td>0.141267</td>\n",
              "      <td>-0.206010</td>\n",
              "      <td>0.502292</td>\n",
              "      <td>0.219422</td>\n",
              "      <td>0.215153</td>\n",
              "      <td>69.99</td>\n",
              "      <td>0</td>\n",
              "    </tr>\n",
              "  </tbody>\n",
              "</table>\n",
              "<p>5 rows × 31 columns</p>\n",
              "</div>\n",
              "      <button class=\"colab-df-convert\" onclick=\"convertToInteractive('df-de1700cc-94fa-4e67-b940-0a4d10b0cf97')\"\n",
              "              title=\"Convert this dataframe to an interactive table.\"\n",
              "              style=\"display:none;\">\n",
              "        \n",
              "  <svg xmlns=\"http://www.w3.org/2000/svg\" height=\"24px\"viewBox=\"0 0 24 24\"\n",
              "       width=\"24px\">\n",
              "    <path d=\"M0 0h24v24H0V0z\" fill=\"none\"/>\n",
              "    <path d=\"M18.56 5.44l.94 2.06.94-2.06 2.06-.94-2.06-.94-.94-2.06-.94 2.06-2.06.94zm-11 1L8.5 8.5l.94-2.06 2.06-.94-2.06-.94L8.5 2.5l-.94 2.06-2.06.94zm10 10l.94 2.06.94-2.06 2.06-.94-2.06-.94-.94-2.06-.94 2.06-2.06.94z\"/><path d=\"M17.41 7.96l-1.37-1.37c-.4-.4-.92-.59-1.43-.59-.52 0-1.04.2-1.43.59L10.3 9.45l-7.72 7.72c-.78.78-.78 2.05 0 2.83L4 21.41c.39.39.9.59 1.41.59.51 0 1.02-.2 1.41-.59l7.78-7.78 2.81-2.81c.8-.78.8-2.07 0-2.86zM5.41 20L4 18.59l7.72-7.72 1.47 1.35L5.41 20z\"/>\n",
              "  </svg>\n",
              "      </button>\n",
              "      \n",
              "  <style>\n",
              "    .colab-df-container {\n",
              "      display:flex;\n",
              "      flex-wrap:wrap;\n",
              "      gap: 12px;\n",
              "    }\n",
              "\n",
              "    .colab-df-convert {\n",
              "      background-color: #E8F0FE;\n",
              "      border: none;\n",
              "      border-radius: 50%;\n",
              "      cursor: pointer;\n",
              "      display: none;\n",
              "      fill: #1967D2;\n",
              "      height: 32px;\n",
              "      padding: 0 0 0 0;\n",
              "      width: 32px;\n",
              "    }\n",
              "\n",
              "    .colab-df-convert:hover {\n",
              "      background-color: #E2EBFA;\n",
              "      box-shadow: 0px 1px 2px rgba(60, 64, 67, 0.3), 0px 1px 3px 1px rgba(60, 64, 67, 0.15);\n",
              "      fill: #174EA6;\n",
              "    }\n",
              "\n",
              "    [theme=dark] .colab-df-convert {\n",
              "      background-color: #3B4455;\n",
              "      fill: #D2E3FC;\n",
              "    }\n",
              "\n",
              "    [theme=dark] .colab-df-convert:hover {\n",
              "      background-color: #434B5C;\n",
              "      box-shadow: 0px 1px 3px 1px rgba(0, 0, 0, 0.15);\n",
              "      filter: drop-shadow(0px 1px 2px rgba(0, 0, 0, 0.3));\n",
              "      fill: #FFFFFF;\n",
              "    }\n",
              "  </style>\n",
              "\n",
              "      <script>\n",
              "        const buttonEl =\n",
              "          document.querySelector('#df-de1700cc-94fa-4e67-b940-0a4d10b0cf97 button.colab-df-convert');\n",
              "        buttonEl.style.display =\n",
              "          google.colab.kernel.accessAllowed ? 'block' : 'none';\n",
              "\n",
              "        async function convertToInteractive(key) {\n",
              "          const element = document.querySelector('#df-de1700cc-94fa-4e67-b940-0a4d10b0cf97');\n",
              "          const dataTable =\n",
              "            await google.colab.kernel.invokeFunction('convertToInteractive',\n",
              "                                                     [key], {});\n",
              "          if (!dataTable) return;\n",
              "\n",
              "          const docLinkHtml = 'Like what you see? Visit the ' +\n",
              "            '<a target=\"_blank\" href=https://colab.research.google.com/notebooks/data_table.ipynb>data table notebook</a>'\n",
              "            + ' to learn more about interactive tables.';\n",
              "          element.innerHTML = '';\n",
              "          dataTable['output_type'] = 'display_data';\n",
              "          await google.colab.output.renderOutput(dataTable, element);\n",
              "          const docLink = document.createElement('div');\n",
              "          docLink.innerHTML = docLinkHtml;\n",
              "          element.appendChild(docLink);\n",
              "        }\n",
              "      </script>\n",
              "    </div>\n",
              "  </div>\n",
              "  "
            ],
            "text/plain": [
              "   Time        V1        V2        V3        V4        V5        V6        V7  \\\n",
              "0   0.0 -1.359807 -0.072781  2.536347  1.378155 -0.338321  0.462388  0.239599   \n",
              "1   0.0  1.191857  0.266151  0.166480  0.448154  0.060018 -0.082361 -0.078803   \n",
              "2   1.0 -1.358354 -1.340163  1.773209  0.379780 -0.503198  1.800499  0.791461   \n",
              "3   1.0 -0.966272 -0.185226  1.792993 -0.863291 -0.010309  1.247203  0.237609   \n",
              "4   2.0 -1.158233  0.877737  1.548718  0.403034 -0.407193  0.095921  0.592941   \n",
              "\n",
              "         V8        V9  ...       V21       V22       V23       V24       V25  \\\n",
              "0  0.098698  0.363787  ... -0.018307  0.277838 -0.110474  0.066928  0.128539   \n",
              "1  0.085102 -0.255425  ... -0.225775 -0.638672  0.101288 -0.339846  0.167170   \n",
              "2  0.247676 -1.514654  ...  0.247998  0.771679  0.909412 -0.689281 -0.327642   \n",
              "3  0.377436 -1.387024  ... -0.108300  0.005274 -0.190321 -1.175575  0.647376   \n",
              "4 -0.270533  0.817739  ... -0.009431  0.798278 -0.137458  0.141267 -0.206010   \n",
              "\n",
              "        V26       V27       V28  Amount  Class  \n",
              "0 -0.189115  0.133558 -0.021053  149.62      0  \n",
              "1  0.125895 -0.008983  0.014724    2.69      0  \n",
              "2 -0.139097 -0.055353 -0.059752  378.66      0  \n",
              "3 -0.221929  0.062723  0.061458  123.50      0  \n",
              "4  0.502292  0.219422  0.215153   69.99      0  \n",
              "\n",
              "[5 rows x 31 columns]"
            ]
          },
          "execution_count": 18,
          "metadata": {},
          "output_type": "execute_result"
        }
      ],
      "source": [
        "#Loading data\n",
        "import pandas as pd\n",
        "import numpy as np\n",
        "\n",
        "data = pd.read_csv(\"/content/gdrive/My Drive/Kaggle/creditcard.csv\", header=0)\n",
        "data.head()"
      ]
    },
    {
      "cell_type": "code",
      "execution_count": null,
      "metadata": {
        "colab": {
          "base_uri": "https://localhost:8080/"
        },
        "id": "fByEas3wxean",
        "outputId": "e64ea75c-68b1-4195-f0fa-6b2e49cb655e"
      },
      "outputs": [
        {
          "name": "stdout",
          "output_type": "stream",
          "text": [
            "Duplicates 1081\n",
            "Rows 283726, Columns 31\n"
          ]
        }
      ],
      "source": [
        "#Handle Duplicated values\n",
        "print(\"Duplicates\", data.duplicated().sum())\n",
        "data = data.drop_duplicates()\n",
        "print(\"Rows {}, Columns {}\".format(data.shape[0], data.shape[1]))"
      ]
    },
    {
      "cell_type": "code",
      "execution_count": null,
      "metadata": {
        "colab": {
          "base_uri": "https://localhost:8080/"
        },
        "id": "YFAV2MjzxglJ",
        "outputId": "87200fda-adfa-42eb-fd0d-3abc95ca6300"
      },
      "outputs": [
        {
          "data": {
            "text/plain": [
              "0    283253\n",
              "1       473\n",
              "Name: Class, dtype: int64"
            ]
          },
          "execution_count": 44,
          "metadata": {},
          "output_type": "execute_result"
        }
      ],
      "source": [
        "data['Class'] = data['Class'].replace({'0': 0, '1': 1})\n",
        "data['Class'].unique()\n",
        "data['Class'].value_counts()"
      ]
    },
    {
      "cell_type": "code",
      "execution_count": null,
      "metadata": {
        "colab": {
          "base_uri": "https://localhost:8080/"
        },
        "id": "L-6K32QHxiRf",
        "outputId": "57ecd5f7-2a30-45c4-fa0c-d6273723ca35"
      },
      "outputs": [
        {
          "data": {
            "text/plain": [
              "0    283253\n",
              "1       473\n",
              "Name: Class, dtype: int64"
            ]
          },
          "execution_count": 45,
          "metadata": {},
          "output_type": "execute_result"
        }
      ],
      "source": [
        "labels = data['Class'] \n",
        "#data = data[data.columns[:-1]]\n",
        "labels.value_counts()"
      ]
    },
    {
      "cell_type": "code",
      "execution_count": null,
      "metadata": {
        "id": "FLWFaebvxj91"
      },
      "outputs": [],
      "source": [
        "from sklearn.model_selection import train_test_split\n",
        "\n",
        "X_train, X_test, y_train, y_test = train_test_split( data, labels, test_size=0.3, random_state=SEED )"
      ]
    },
    {
      "cell_type": "code",
      "execution_count": null,
      "metadata": {
        "colab": {
          "base_uri": "https://localhost:8080/"
        },
        "id": "As1pBIDPxl9s",
        "outputId": "6a4df5a6-ddaf-4073-cb20-1a173fe645ae"
      },
      "outputs": [
        {
          "name": "stdout",
          "output_type": "stream",
          "text": [
            "(344, 31) (198608, 31)\n",
            "Accuracy Score: 9.47%\n",
            "F1 Score: 0.31%\n",
            "Confusion Matrix:\n",
            " [[ 7943 77046]\n",
            " [   10   119]]\n",
            "Classification report\n",
            "               precision    recall  f1-score   support\n",
            "\n",
            "           0       1.00      0.09      0.17     84989\n",
            "           1       0.00      0.92      0.00       129\n",
            "\n",
            "    accuracy                           0.09     85118\n",
            "   macro avg       0.50      0.51      0.09     85118\n",
            "weighted avg       1.00      0.09      0.17     85118\n",
            "\n"
          ]
        }
      ],
      "source": [
        "#One class SVM\n",
        "import pandas as pd\n",
        "from sklearn.svm import OneClassSVM\n",
        "from sklearn.metrics import accuracy_score, f1_score, confusion_matrix, classification_report\n",
        "from sklearn.model_selection import train_test_split\n",
        "\n",
        "# Separate the minority class samples from the majority class samples in the training set\n",
        "\n",
        "X_train['Class'] = y_train\n",
        "X_train_minority = X_train[X_train['Class'] == 1]\n",
        "print(X_train_minority.shape, X_train.shape)\n",
        "\n",
        "# Define the One-Class SVM model and fit it to the minority class samples\n",
        "ocsvm = OneClassSVM(kernel='rbf', nu=0.05, gamma='scale')\n",
        "ocsvm.fit(X_train_minority)\n",
        "\n",
        "# Evaluate the One-Class SVM model on the testing set\n",
        "y_pred = ocsvm.predict(X_test)\n",
        "\n",
        "# Convert the predicted labels from -1 and 1 to 0 and 1\n",
        "y_pred[y_pred == -1] = 0\n",
        "y_pred[y_pred == 1] = 1\n",
        "\n",
        "# Calculate and print the performance metrics\n",
        "print(\"Accuracy Score: {:.2f}%\".format(accuracy_score(y_test, y_pred) * 100))\n",
        "print(\"F1 Score: {:.2f}%\".format(f1_score(y_test, y_pred) * 100))\n",
        "print(\"Confusion Matrix:\\n\", confusion_matrix(y_test, y_pred))\n",
        "print(\"Classification report\\n\", classification_report(y_test, y_pred))\n"
      ]
    },
    {
      "cell_type": "code",
      "execution_count": null,
      "metadata": {
        "colab": {
          "base_uri": "https://localhost:8080/"
        },
        "id": "zZ8RsaqUP60T",
        "outputId": "ac98ca7e-2bc7-4811-e7a0-c9bafa770337"
      },
      "outputs": [
        {
          "name": "stdout",
          "output_type": "stream",
          "text": [
            "            Time         V1         V2         V3         V4         V5  \\\n",
            "42696    41203.0  -8.426814   6.241659  -9.946470   8.199614  -8.213093   \n",
            "262826  160665.0  -0.417340   4.700055  -7.521767   7.671884   0.260821   \n",
            "157585  110087.0   1.934946   0.650678  -0.286957   3.987828   0.316052   \n",
            "15539    26931.0 -22.561699  13.208904 -24.643819   6.232532 -16.905611   \n",
            "42473    41116.0  -3.600544   4.519047  -6.340884   6.214767  -5.829558   \n",
            "...          ...        ...        ...        ...        ...        ...   \n",
            "239499  150138.0  -2.150855   2.187917  -3.430516   0.119476  -0.173210   \n",
            "123301   76876.0  -1.298359   1.079671  -0.180678   1.287839   1.858273   \n",
            "70141    53727.0  -1.649279   1.263974  -1.050826   2.237991  -2.527889   \n",
            "150654   93834.0  -3.765680   5.890735 -10.202268  10.259036  -5.611448   \n",
            "221041  142409.0  -1.172183   1.661713  -3.049637   2.555058   3.669035   \n",
            "\n",
            "              V6         V7         V8        V9  ...       V21       V22  \\\n",
            "42696  -2.522046 -11.643028   5.339500 -7.051016  ...  2.427460  0.692667   \n",
            "262826 -2.646693  -2.854432   0.958783 -4.588536  ...  0.622200 -0.437708   \n",
            "157585 -0.099449  -0.021483  -0.172327  0.508730  ... -0.173602 -0.190974   \n",
            "15539  -4.497439 -16.810184  14.955107 -3.871297  ...  1.765987 -1.635517   \n",
            "42473  -2.478095  -9.938412   2.830086 -5.659162  ...  2.263770  0.620749   \n",
            "...          ...        ...        ...       ...  ...       ...       ...   \n",
            "239499  0.290700  -2.808988  -2.679351 -0.556685  ... -0.073205  0.561496   \n",
            "123301 -2.223695   0.525167  -0.096874 -0.168893  ... -0.332983 -0.851270   \n",
            "70141  -0.889940  -2.355254   0.854659 -1.281243  ...  0.679176  0.731907   \n",
            "150654 -3.235376 -10.632683   3.272716 -5.268905  ...  2.245606  0.546321   \n",
            "221041 -3.162998  -5.985640  -2.179935 -1.120292  ... -0.812098 -0.295361   \n",
            "\n",
            "             V23       V24       V25       V26       V27       V28  Amount  \\\n",
            "42696   0.020305  0.499809  0.467594  0.483162  1.195671  0.198294   88.23   \n",
            "262826 -0.090358 -0.742802 -0.312361  0.502575  0.821390  0.372379    0.77   \n",
            "157585  0.219976 -0.216597 -0.136692 -0.129954 -0.050077 -0.051082    1.00   \n",
            "15539  -0.998317  0.138972  1.559350 -0.222125  1.504425  0.445920   99.99   \n",
            "42473  -0.094069  0.536719  0.398142  0.008277  2.053524  0.835749    3.79   \n",
            "...          ...       ...       ...       ...       ...       ...     ...   \n",
            "239499 -0.075034 -0.437619  0.353841 -0.521339  0.144465  0.026588   50.00   \n",
            "123301 -0.370800  0.298242  0.442930 -0.522832  0.000105  0.135698    1.00   \n",
            "70141   0.333045  0.392505 -0.274197  0.802349  0.390809  0.112146  112.45   \n",
            "150654  0.381853  0.382025 -0.821036  0.394355  1.412961  0.782407    0.01   \n",
            "221041 -5.988806  0.714381 -1.600024 -0.634783  0.822713  0.494375    2.00   \n",
            "\n",
            "        Class  \n",
            "42696       1  \n",
            "262826      1  \n",
            "157585      1  \n",
            "15539       1  \n",
            "42473       1  \n",
            "...       ...  \n",
            "239499      1  \n",
            "123301      1  \n",
            "70141       1  \n",
            "150654      1  \n",
            "221041      1  \n",
            "\n",
            "[344 rows x 31 columns]\n"
          ]
        }
      ],
      "source": []
    },
    {
      "cell_type": "code",
      "execution_count": null,
      "metadata": {
        "colab": {
          "base_uri": "https://localhost:8080/"
        },
        "id": "e5hQ5rPCP_WY",
        "outputId": "c70037f6-7b6c-4898-9c10-9613191cd5ad"
      },
      "outputs": [
        {
          "name": "stdout",
          "output_type": "stream",
          "text": [
            "Accuracy Score: 96.42%\n",
            "F1 Score: 6.45%\n",
            "Confusion Matrix:\n",
            " [[81967  3022]\n",
            " [   24   105]]\n"
          ]
        }
      ],
      "source": [
        "#Isolation forest\n",
        "import pandas as pd\n",
        "from sklearn.ensemble import IsolationForest\n",
        "from sklearn.metrics import accuracy_score, f1_score, confusion_matrix\n",
        "from sklearn.model_selection import train_test_split\n",
        "\n",
        "iforest = IsolationForest(\n",
        "    n_estimators=100,\n",
        "    max_samples='auto',\n",
        "    contamination='auto',\n",
        "    random_state=SEED\n",
        ")\n",
        "\n",
        "# Train the Isolation Forest model on the training set\n",
        "iforest.fit(X_train)\n",
        "\n",
        "# Predict the anomaly scores for the testing set\n",
        "y_scores = iforest.decision_function(X_test)\n",
        "\n",
        "# Convert the anomaly scores to binary labels\n",
        "y_pred = [1 if s < 0 else 0 for s in y_scores]\n",
        "\n",
        "# Calculate and print the performance metrics\n",
        "print(\"Accuracy Score: {:.2f}%\".format(accuracy_score(y_test, y_pred) * 100))\n",
        "print(\"F1 Score: {:.2f}%\".format(f1_score(y_test, y_pred) * 100))\n",
        "print(\"Confusion Matrix:\\n\", confusion_matrix(y_test, y_pred))\n"
      ]
    },
    {
      "cell_type": "code",
      "execution_count": null,
      "metadata": {
        "colab": {
          "base_uri": "https://localhost:8080/"
        },
        "id": "x_947ATleZ4H",
        "outputId": "5bc8db75-a718-4591-c6c2-0ff35edf6018"
      },
      "outputs": [
        {
          "name": "stdout",
          "output_type": "stream",
          "text": [
            "Accuracy Score: 100.00%\n",
            "F1 Score: 100.00%\n",
            "Confusion Matrix:\n",
            " [[84989     0]\n",
            " [    0   129]]\n",
            "Classification report:\n",
            "               precision    recall  f1-score   support\n",
            "\n",
            "           0       1.00      1.00      1.00     84989\n",
            "           1       1.00      1.00      1.00       129\n",
            "\n",
            "    accuracy                           1.00     85118\n",
            "   macro avg       1.00      1.00      1.00     85118\n",
            "weighted avg       1.00      1.00      1.00     85118\n",
            "\n"
          ]
        }
      ],
      "source": [
        "#LOF\n",
        "\n",
        "import pandas as pd\n",
        "from sklearn.ensemble import GradientBoostingClassifier\n",
        "from sklearn.metrics import accuracy_score, f1_score, confusion_matrix, classification_report\n",
        "from sklearn.neighbors import LocalOutlierFactor\n",
        "\n",
        "# Define the Local Outlier Factor detector\n",
        "lof = LocalOutlierFactor(n_neighbors=20, contamination='auto')\n",
        "\n",
        "# Fit the LOF detector on the training set\n",
        "lof.fit(X_train)\n",
        "\n",
        "# Use LOF to identify outliers in the training set\n",
        "lof_scores_train = lof.negative_outlier_factor_\n",
        "lof_threshold_train = -2.0\n",
        "outliers_train = X_train[lof_scores_train < lof_threshold_train]\n",
        "\n",
        "# Remove the identified outliers from the training set\n",
        "X_train_clean = X_train[lof_scores_train >= lof_threshold_train]\n",
        "y_train_clean = y_train[lof_scores_train >= lof_threshold_train]\n",
        "\n",
        "# Define the Gradient Boosting classifier\n",
        "gb_clf = GradientBoostingClassifier(\n",
        "    n_estimators=100,\n",
        "    learning_rate=0.1,\n",
        "    max_depth=3,\n",
        "    random_state=SEED\n",
        ")\n",
        "\n",
        "# Train the Gradient Boosting classifier on the cleaned training set\n",
        "gb_clf.fit(X_train_clean, y_train_clean)\n",
        "\n",
        "# Evaluate the Gradient Boosting classifier on the original testing set\n",
        "y_pred = gb_clf.predict(X_test)\n",
        "\n",
        "# Calculate and print the performance metrics\n",
        "print(\"Accuracy Score: {:.2f}%\".format(accuracy_score(y_test, y_pred) * 100))\n",
        "print(\"F1 Score: {:.2f}%\".format(f1_score(y_test, y_pred) * 100))\n",
        "print(\"Confusion Matrix:\\n\", confusion_matrix(y_test, y_pred))\n",
        "print(\"Classification report:\\n\", classification_report(y_test, y_pred))"
      ]
    }
  ],
  "metadata": {
    "colab": {
      "provenance": []
    },
    "kernelspec": {
      "display_name": "Python 3",
      "name": "python3"
    },
    "language_info": {
      "name": "python"
    }
  },
  "nbformat": 4,
  "nbformat_minor": 0
}
